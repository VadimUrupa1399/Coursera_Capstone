{
  "nbformat": 4,
  "nbformat_minor": 0,
  "metadata": {
    "colab": {
      "name": "coursera_capstone.ipynb",
      "provenance": []
    },
    "kernelspec": {
      "name": "python3",
      "display_name": "Python 3"
    }
  },
  "cells": [
    {
      "cell_type": "markdown",
      "metadata": {
        "id": "8Kk2zYoVi_iT"
      },
      "source": [
        "This notebook will be used mainly for capstone project.\n"
      ]
    },
    {
      "cell_type": "code",
      "metadata": {
        "colab": {
          "base_uri": "https://localhost:8080/"
        },
        "id": "lZDOwqZBisQy",
        "outputId": "6008c8ff-2528-49cd-b0dd-9a6921c949bc"
      },
      "source": [
        "import pandas as pd\n",
        "import numpy as np\n",
        "print('Hello Capstone Project Course')"
      ],
      "execution_count": 1,
      "outputs": [
        {
          "output_type": "stream",
          "text": [
            "Hello Capstone Project Course\n"
          ],
          "name": "stdout"
        }
      ]
    }
  ]
}